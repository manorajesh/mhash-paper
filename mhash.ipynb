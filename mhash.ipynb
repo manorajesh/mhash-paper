{
 "cells": [
  {
   "cell_type": "markdown",
   "source": "# mHash - A Cryptographic Hashing Algorithm\n#### Mano Rajesh Robotics Honors\nSpring 2022",
   "metadata": {
    "cell_id": "06660996c9d14c22bf183b3e86207c7b",
    "tags": [],
    "deepnote_cell_type": "markdown",
    "deepnote_cell_height": 156
   }
  },
  {
   "cell_type": "markdown",
   "source": "---",
   "metadata": {
    "cell_id": "69acb7a7bbb3453585144b4b666819f9",
    "tags": [],
    "deepnote_cell_type": "markdown",
    "deepnote_cell_height": 45.600006103515625
   }
  },
  {
   "cell_type": "markdown",
   "source": "# Introduction\nTo test my knowledge of Python, I decided to embark on creating my own hashing algorithm made entirely in Python. A hashing algorithm is where you have a given input and a fixed length output. Simply, this means that the string `hello, world` will have a totally unique output such as `@OOk##x39aVXMyUBu?(*hNx9PGHTjzHCx`. \n<figure><img src=\"/work/image-20220525-090111.png\"><figcaption align =\"center\"><b>Fig.1 - Visual Example of Hashing, from Brilliant.org; 2022</b></figcaption></figure><br>\n\nIn reality, creating a perfect **cryptographic** (a hashing algorithm that's impossible to break) hashing algorithm is practically impossible since the only real way to test all the possibilities is to brute force every piece of data possible and check for collisions. A hashing collision is where _two different pieces_ of data produce the _same or similar_ data. For example, if we go back to our `hello, world` example and `hello, earth` produces that same hash (`@OOk##x39aVXMyUBu?(*hNx9PGHTjzHCx`), then there is a **collision**. In simpler terms, it is when two different input share an output. Collisions means that data can be mimiced, altered, or accessed. If the hashing algorithm is used widely (e.g. SHA, CRC32, etc.) then the collisions can be used to implement malicious code or other malevolent actions.\n\nMy goal was to create a cryptographic hashing algorithm made entirely in Python. This requires quite a bit of math, planning, testing, and analyzing. ",
   "metadata": {
    "cell_id": "8396054e61234f6baebc2fb005505297",
    "tags": [],
    "deepnote_cell_type": "markdown",
    "deepnote_cell_height": 855.2000122070312
   }
  },
  {
   "cell_type": "markdown",
   "source": "# Method\nTo begin, I started simply using knowledge of encryption algorithms and hashing algorithms to create a base for my own hashing algorithm. This way, I could make my own algorithm rather than making a copy of an existing one. \n\n<sub>Note: You can interact with any of the hashing algorithms. Simply type your input, click Apply, and run the code block below</sub>",
   "metadata": {
    "cell_id": "9b2f2ea9837549febc68c242ebbd3412",
    "tags": [],
    "deepnote_cell_type": "markdown",
    "deepnote_cell_height": 178.8000030517578
   }
  },
  {
   "cell_type": "code",
   "metadata": {
    "cell_id": "a0d7828d1d98418fb39fe2f17ec118c0",
    "deepnote_variable_name": "plaintext_input_1",
    "deepnote_variable_value": "gnof",
    "deepnote_to_be_reexecuted": false,
    "source_hash": "747d0330",
    "execution_start": 1653522212853,
    "execution_millis": 2,
    "deepnote_cell_type": "input-text"
   },
   "source": "plaintext_input_1 = 'gnof'",
   "execution_count": 1,
   "outputs": []
  },
  {
   "cell_type": "code",
   "metadata": {
    "cell_id": "0742660246b24acd97a285dca9e43e24",
    "tags": [],
    "deepnote_to_be_reexecuted": false,
    "source_hash": "e9258f77",
    "execution_start": 1653522212874,
    "execution_millis": 5,
    "deepnote_cell_type": "code",
    "deepnote_cell_height": 399.3999938964844
   },
   "source": "def hashing(plaintext, length=32):\n    seed = 0\n    hash = []\n    salt = 0\n    random_length_num = 1\n    text = \"abcdefghjiklmnopqrstuvwxyz1234567890ABCDEFGHIJKLMNOPQRSTUVWXYZ)(*&%$#@!\"\n\n    for char in plaintext:\n        random_length_num += ord(char)\n\n    while salt <= length:\n        seed += ord(plaintext[salt % len(plaintext)]) + salt * random_length_num\n        hash.append(text[(seed**salt*random_length_num) % len(text)])\n        salt += 1\n    return hash\n\nprint(\"\".join(hashing(plaintext_input_1))) ",
   "execution_count": 2,
   "outputs": [
    {
     "name": "stdout",
     "text": "bbddO5AK4BB%J7S7Bwmu7fq0JDp9SmM!t\n",
     "output_type": "stream"
    }
   ]
  },
  {
   "cell_type": "markdown",
   "source": "##### With a hashing algorithm that _seems_ to work, I began implementing a testing program. Below is the pseudo-code: ",
   "metadata": {
    "cell_id": "70fc37b90a454039a14ad8bc8309cf96",
    "tags": [],
    "deepnote_cell_type": "markdown",
    "deepnote_cell_height": 53.600006103515625
   }
  },
  {
   "cell_type": "code",
   "metadata": {
    "cell_id": "7911419c869546edb0ce59970f6a7a87",
    "tags": [],
    "deepnote_to_be_reexecuted": false,
    "source_hash": "f0cba089",
    "execution_start": 1653522212876,
    "execution_millis": 4,
    "deepnote_cell_type": "code",
    "deepnote_cell_height": 353.6000061035156
   },
   "source": "def generate string(seed):\n    generate a string like 'a' or 'b' depending on the seed\n\n    if seed is greater than 26\n    return 'aa' or 'ab' depending on seed\n    # incrementing the letter depending on seed\n\nwhile True:\n    hash(generate string(number))\n    write hash result to file\n    increment number by 1\n\nfor word1 in file:\n    for word2 in file:\n        if word2 is similar word2: # Check every word against every other\n            file write word2\n            print(\"Collision found\")",
   "execution_count": 3,
   "outputs": [
    {
     "output_type": "error",
     "ename": "SyntaxError",
     "evalue": "invalid syntax (<ipython-input-3-1ec39f44bcc2>, line 1)",
     "traceback": [
      "\u001b[0;36m  File \u001b[0;32m\"<ipython-input-3-1ec39f44bcc2>\"\u001b[0;36m, line \u001b[0;32m1\u001b[0m\n\u001b[0;31m    def generate string(seed):\u001b[0m\n\u001b[0m                      ^\u001b[0m\n\u001b[0;31mSyntaxError\u001b[0m\u001b[0;31m:\u001b[0m invalid syntax\n"
     ]
    }
   ]
  },
  {
   "cell_type": "markdown",
   "source": "This testing program is going to brute force the hashing algorithm. This means that it is very, very slow; however, it is very effective in finding collisions as mentioned previously. Below is a cross-section of one of the outputs. The output (or ciphertext) is on the left, and the input (or plaintext) is on the right. This format allows for very easy reading, analyzing, and error-checking because it is very simple and consistent.",
   "metadata": {
    "cell_id": "0041ab6425534801a9a956d36c0769b1",
    "tags": [],
    "deepnote_cell_type": "markdown",
    "deepnote_cell_height": 119.19999694824219
   }
  },
  {
   "cell_type": "markdown",
   "source": "```\n.\n.\n.\nqx@6JYGBY01SnvviOs2Mz1IzlJ?njcCmq jjjj\n7v!m53p@z)YhLOXJx&mB19&UU5?4ER84P kkkk\n8t<%p@Z3(qv8jgyj@D!12Gno3p?J?63Kn llll\nLr?LaB9Y3HTXG0)IGnTp3O9Jaa?Z6ix(M mmmm\nEpa3Wfht%!qmd*2hpYEe4WTdJW?e(Yshk nnnn\nwnbiHKRP6yOCBu&HZ9z%5%d9rH?uwCnyJ oooo\n8lc(3o1k@Pl*<N5g9jkT6by&)3?ASqjFh pppp\noidInT?G9fJr7f#GhT#I7iJx9n?Qn$dWG qqqq\nvhez<xJb?7gH%98fR4R88r%Sg<?#JJ<ce rrrr\nXffgU*s8BXE@2(<F1dCw9zomPU?lex%tD ssss\ncdgYF7*&cnbwZtAe?Oxl080HxF?2AbZAb tttt\ndbhF1aByEE0MwMbEJyjaAFUb#1?H#QURA uuuu\nr?jwlFkUf$@bUeDds<%)BNe7El?X25P!< vvvv\nk!id@iUpHv52r8eD*JPPCVz(m@?cXjKo8 wwww\n&#kVSO4LjM*RP)GcBtAED&KvVS?ssXF6# xxxx\nd%lCDscgKczgmshCk%v4Ea$Q4D?9OBAM5 yyyy\nV*mtyXMCl4X7KLJbUEgsFjpkby?Oip6&& zzzz\n$qmkF%XC%?)wL9v0VziexJ1csv?4G1bmw aaaa\nfon*197!61xMj(X<5?$%yRL8(g?Jbe@4V bbbbb\nXmoJlcf4@RVbGty9dKQTzZ#*0*?Z8T*Kt ccccc\n%kp1@HPZ9hs2dM)!NuBI1@qwhN?e&8X(S ddddd\n6jqhSlyu?9QRBe28w$w82eBRQ9?uylShq eeeee\nLgrZDQ!QBZng<8&@#Fhw3mWlyt?AU)NyP fffff\nMesGyuHlcpL77)57Fp&l4ugG@e?QpEIFn ggggg\n)ctxiZqHEGjW%s##o)Oa532aF)?#LsDWM hhhhh\nTaue$4)cf@Gl2L86YA0)6AM6nL?lg@9ck iiiii\nB<vWQ!09HxdBZd<$8kuP7I@)W7?2CL4tJ jjjjj\nM@wDBCj%jOB(w7A5gVfE8Qru5r?H!zyAh kkkkk\n4$xuwgSzKe<qUZb%Q6(49YCPcc?X4dtRG lllll\nA&ybhL2Vl67GrrD4zfMs0#XiLY?cZSo!e mmmmm\nb(zT&paqNW%#PKe&<Q8hAdhEtJ?su7ioD nnnnn\nrZ1AOUKMom2vmcG3I1s@Bl3<*5?9Qke6b ooooo\n.\n.\n.\n```",
   "metadata": {
    "cell_id": "a6bd9d3b62844632ac47e1ed01324c64",
    "tags": [],
    "deepnote_cell_type": "markdown",
    "deepnote_cell_height": 840
   }
  },
  {
   "cell_type": "markdown",
   "source": "The amount of collisions found in the first version of the hash was signifcant; there were around a 1000 collisions in a million hashing. In other words, there was one collision for every 1000 hashes. This may seem like a practical amount of collisions (only 0.1% of hashes are collisions); however, SHA or the Secure Hashing Algorithm (the standard hashing algorithm for the US Government) has **no** collisions at all. \n\nIn light of this, I aimed to deconstruct my hashing algorithm and find how those collisions were created.",
   "metadata": {
    "cell_id": "126ee46f21f34c06a754998fc9a03ee4",
    "tags": [],
    "deepnote_cell_type": "markdown",
    "deepnote_cell_height": 155.60000610351562
   }
  },
  {
   "cell_type": "markdown",
   "source": "---",
   "metadata": {
    "cell_id": "258d37d033614b0f8419db39afe6b14c",
    "tags": [],
    "deepnote_cell_type": "markdown",
    "deepnote_cell_height": 45.600006103515625
   }
  },
  {
   "cell_type": "markdown",
   "source": "To understand the hashing algorithm, we must deconstruct each section of the algorithm. Broadly, the algorithm is split into two parts: a number linked to the length of the input and the assignment of letters to output. Firstly, the number linked to the length of the input is important since you want the length of the input to drastically change the output. If it is drastically different, the input `i` and `ii` should be very different even though they contain the same character.\n\nWith that said, this version of the hash does not account for this as seen by the example of `gn` and `gnof`. the hash for `gn` is `bbsdO54K4B7%J7V7Bwiu7fb0JDs9Sma!t`, yet the hash for `gnof` is `bbddO5AK4BB%J7S7Bwmu7fq0JDp9SmM!t`. The resultant hashes are extremely close since the input strings are also very similar to each other. This is a major fault since an attacker can use this knowledge to estimate the data in a hash. For example, if the attacker knows that a particular secret hash is similar to another hash, they can estimate what the secret data is by using the hash input they already know.",
   "metadata": {
    "cell_id": "be6bb70452f642ba8597e2186425692d",
    "tags": [],
    "deepnote_cell_type": "markdown",
    "deepnote_cell_height": 245.1999969482422
   }
  },
  {
   "cell_type": "code",
   "metadata": {
    "cell_id": "5b24f1194f43488389a593ed2827e578",
    "tags": [],
    "deepnote_to_be_reexecuted": true,
    "source_hash": "e309c0a6",
    "execution_start": 1653507686450,
    "execution_millis": 5,
    "deepnote_cell_type": "code",
    "deepnote_cell_height": 309.3999938964844
   },
   "source": "plaintext = plaintext_input_1\n\nseed = 0\nhash = []\nsalt = 0\nrandom_length_num = 1\ntext = \"abcdefghjiklmnopqrstuvwxyz1234567890ABCDEFGHIJKLMNOPQRSTUVWXYZ)(*&%$#@!\"\n\nfor char in plaintext:\n    random_length_num += ord(char)\n\nprint(random_length_num)",
   "execution_count": null,
   "outputs": [
    {
     "name": "stdout",
     "text": "427\n",
     "output_type": "stream"
    }
   ]
  },
  {
   "cell_type": "code",
   "metadata": {
    "cell_id": "6faff10f842e48dd9027bd56bded2060",
    "tags": [],
    "deepnote_to_be_reexecuted": true,
    "source_hash": "7acfe4e0",
    "execution_start": 1653507688278,
    "execution_millis": 15,
    "deepnote_cell_type": "code",
    "deepnote_cell_height": 201.39999389648438
   },
   "source": "while salt <= 32:\n    seed += ord(plaintext[salt % len(plaintext)]) + salt * random_length_num\n    hash.append(text[(seed**salt*random_length_num) % len(text)])\n    salt += 1\n\nprint(\"\".join(hash))",
   "execution_count": null,
   "outputs": [
    {
     "name": "stdout",
     "text": "bbddO5AK4BB%J7S7Bwmu7fq0JDp9SmM!t\n",
     "output_type": "stream"
    }
   ]
  },
  {
   "cell_type": "markdown",
   "source": "This section of the hash is where in combination with the `seed` variable, `salt` variable, and `random_length_num` variable come together to calculate a random (yet consistent) letter for each place in the hash. Since the length of the hash is 32 characters, the loop will go on 32 times.\n\nSince the `random_length_num` variable is vulnerable, the entire main loop is thereby affected. This area is also of concern since it has a lot of very compute-intensive calculations (like exponents and division). This means that this area is an inefficient part of the algorithm and can be improved.",
   "metadata": {
    "cell_id": "51247ba119da4701b1614fdfb273bc98",
    "tags": [],
    "deepnote_cell_type": "markdown",
    "deepnote_cell_height": 178
   }
  },
  {
   "cell_type": "markdown",
   "source": "---",
   "metadata": {
    "cell_id": "d40389c717f44b2486d095437f6c6c03",
    "tags": [],
    "deepnote_cell_type": "markdown",
    "deepnote_cell_height": 45.600006103515625
   }
  },
  {
   "cell_type": "markdown",
   "source": "Now, the algorithm can be improved if the varible `random_length_num` is changed drastically with the input length, and the character assignment section is adjusted for speed. Below is the new algorithm:",
   "metadata": {
    "cell_id": "9bf9f39f81dc48a980e5ad23bbd89818",
    "tags": [],
    "deepnote_cell_type": "markdown",
    "deepnote_cell_height": 74.39999389648438
   }
  },
  {
   "cell_type": "code",
   "metadata": {
    "cell_id": "5a53366986664816a24a2e6f40c3e332",
    "deepnote_variable_name": "plaintext_input_1",
    "deepnote_variable_value": "fffffffffffffffffffffffffffffffffffffff",
    "deepnote_to_be_reexecuted": true,
    "source_hash": "900ebacf",
    "execution_start": 1653514624492,
    "execution_millis": 6,
    "deepnote_cell_type": "input-text"
   },
   "source": "plaintext_input_1 = 'fffffffffffffffffffffffffffffffffffffff'",
   "execution_count": null,
   "outputs": []
  },
  {
   "cell_type": "code",
   "metadata": {
    "cell_id": "a052cd3521e94b8eb873ae390de7d81a",
    "tags": [],
    "deepnote_to_be_reexecuted": true,
    "source_hash": "d8e0c8cd",
    "execution_start": 1653514627113,
    "execution_millis": 1,
    "deepnote_cell_type": "code",
    "deepnote_cell_height": 471.3999938964844
   },
   "source": "plaintext = plaintext_input_1\n\ndef hashing(plaintext, length=32):\n    seed = 0\n    hash = []\n    salt = 0\n    random_length_num = 1\n    text = \"abcdefghjiklmnopqrstuvwxyz1234567890ABCDEFGHIJKLMNOPQRSTUVWXYZ)(*&%$#@!\"\n\n    for char in plaintext:\n        random_length_num += ord(char)\n        random_length_num += ~ len(plaintext)\n\n    while salt <= length:\n        seed += ord(plaintext[salt % len(plaintext)]) + salt * random_length_num\n        hash.append(text[(seed**salt*random_length_num) % len(text)])\n        salt += 1\n        random_length_num += 1\n    return hash\n\nprint(\"\".join(hashing(plaintext_input_1))) ",
   "execution_count": null,
   "outputs": [
    {
     "name": "stdout",
     "text": "fR&35y91@gAqUWNB95%fcTi!cJ$bxQUeu\n",
     "output_type": "stream"
    }
   ]
  },
  {
   "cell_type": "markdown",
   "source": "The algorithm was changed very minimally, but those changes were very important. The first and most important change was the line `random_length_num += ~ len(plaintext)`. This was important as the result of the line is heavily dependent on the length of the input. This is beacuse it takes the length of the input and inverts the bits (0 will be 1 and 1 will be 0). This is then added to the `random_length_num` variable to get a large number. The variable is then dependent on not only the actual character inputted (as shown with the `ord()` function) but also the length of the input.\n\nAdditionally, I added the line `random_length_num += 1` within the second part in order to make the chance of repeated values of it (with different inputs) nearly impossible.\n\nThese two changes made the chance of collisions nearly impossible with no collisions found in 10,000 hashes and only one collision found in 1,000,000 hashes.",
   "metadata": {
    "cell_id": "fda278c2fc89490b9d5ca0474bb3a56c",
    "tags": [],
    "deepnote_cell_type": "markdown",
    "deepnote_cell_height": 259.20001220703125
   }
  },
  {
   "cell_type": "markdown",
   "source": "# Results",
   "metadata": {
    "cell_id": "06ec5ce8fdec4e7c948722885efba279",
    "tags": [],
    "deepnote_cell_type": "markdown",
    "deepnote_cell_height": 81.60000610351562
   }
  },
  {
   "cell_type": "markdown",
   "source": "To analyze the result, I used the aforementioned testing algorithm, hashing time program, and a plotting program.  ",
   "metadata": {
    "cell_id": "46fba5bec87347878023b737908297d3",
    "tags": [],
    "owner_user_id": "0ff3066a-5020-4d17-945f-b23a349ca8b1",
    "deepnote_cell_type": "markdown",
    "deepnote_cell_height": 52
   }
  },
  {
   "cell_type": "markdown",
   "source": "# Discussion",
   "metadata": {
    "cell_id": "d79d981f5a8544dea0cd0d4c4a56253c",
    "tags": [],
    "deepnote_cell_type": "markdown",
    "deepnote_cell_height": 81.60000610351562
   }
  },
  {
   "cell_type": "markdown",
   "source": "# Conclusion",
   "metadata": {
    "cell_id": "3b7a46e51bac48cb9d62a7f1be301fce",
    "tags": [],
    "deepnote_cell_type": "markdown",
    "deepnote_cell_height": 81.60000610351562
   }
  },
  {
   "cell_type": "markdown",
   "source": "<a style='text-decoration:none;line-height:16px;display:flex;color:#5B5B62;padding:10px;justify-content:end;' href='https://deepnote.com?utm_source=created-in-deepnote-cell&projectId=764b8806-990e-4d16-80ea-8c890893c289' target=\"_blank\">\n<img alt='Created in deepnote.com' style='display:inline;max-height:16px;margin:0px;margin-right:7.5px;' src='data:image/svg+xml;base64,PD94bWwgdmVyc2lvbj0iMS4wIiBlbmNvZGluZz0iVVRGLTgiPz4KPHN2ZyB3aWR0aD0iODBweCIgaGVpZ2h0PSI4MHB4IiB2aWV3Qm94PSIwIDAgODAgODAiIHZlcnNpb249IjEuMSIgeG1sbnM9Imh0dHA6Ly93d3cudzMub3JnLzIwMDAvc3ZnIiB4bWxuczp4bGluaz0iaHR0cDovL3d3dy53My5vcmcvMTk5OS94bGluayI+CiAgICA8IS0tIEdlbmVyYXRvcjogU2tldGNoIDU0LjEgKDc2NDkwKSAtIGh0dHBzOi8vc2tldGNoYXBwLmNvbSAtLT4KICAgIDx0aXRsZT5Hcm91cCAzPC90aXRsZT4KICAgIDxkZXNjPkNyZWF0ZWQgd2l0aCBTa2V0Y2guPC9kZXNjPgogICAgPGcgaWQ9IkxhbmRpbmciIHN0cm9rZT0ibm9uZSIgc3Ryb2tlLXdpZHRoPSIxIiBmaWxsPSJub25lIiBmaWxsLXJ1bGU9ImV2ZW5vZGQiPgogICAgICAgIDxnIGlkPSJBcnRib2FyZCIgdHJhbnNmb3JtPSJ0cmFuc2xhdGUoLTEyMzUuMDAwMDAwLCAtNzkuMDAwMDAwKSI+CiAgICAgICAgICAgIDxnIGlkPSJHcm91cC0zIiB0cmFuc2Zvcm09InRyYW5zbGF0ZSgxMjM1LjAwMDAwMCwgNzkuMDAwMDAwKSI+CiAgICAgICAgICAgICAgICA8cG9seWdvbiBpZD0iUGF0aC0yMCIgZmlsbD0iIzAyNjVCNCIgcG9pbnRzPSIyLjM3NjIzNzYyIDgwIDM4LjA0NzY2NjcgODAgNTcuODIxNzgyMiA3My44MDU3NTkyIDU3LjgyMTc4MjIgMzIuNzU5MjczOSAzOS4xNDAyMjc4IDMxLjY4MzE2ODMiPjwvcG9seWdvbj4KICAgICAgICAgICAgICAgIDxwYXRoIGQ9Ik0zNS4wMDc3MTgsODAgQzQyLjkwNjIwMDcsNzYuNDU0OTM1OCA0Ny41NjQ5MTY3LDcxLjU0MjI2NzEgNDguOTgzODY2LDY1LjI2MTk5MzkgQzUxLjExMjI4OTksNTUuODQxNTg0MiA0MS42NzcxNzk1LDQ5LjIxMjIyODQgMjUuNjIzOTg0Niw0OS4yMTIyMjg0IEMyNS40ODQ5Mjg5LDQ5LjEyNjg0NDggMjkuODI2MTI5Niw0My4yODM4MjQ4IDM4LjY0NzU4NjksMzEuNjgzMTY4MyBMNzIuODcxMjg3MSwzMi41NTQ0MjUgTDY1LjI4MDk3Myw2Ny42NzYzNDIxIEw1MS4xMTIyODk5LDc3LjM3NjE0NCBMMzUuMDA3NzE4LDgwIFoiIGlkPSJQYXRoLTIyIiBmaWxsPSIjMDAyODY4Ij48L3BhdGg+CiAgICAgICAgICAgICAgICA8cGF0aCBkPSJNMCwzNy43MzA0NDA1IEwyNy4xMTQ1MzcsMC4yNTcxMTE0MzYgQzYyLjM3MTUxMjMsLTEuOTkwNzE3MDEgODAsMTAuNTAwMzkyNyA4MCwzNy43MzA0NDA1IEM4MCw2NC45NjA0ODgyIDY0Ljc3NjUwMzgsNzkuMDUwMzQxNCAzNC4zMjk1MTEzLDgwIEM0Ny4wNTUzNDg5LDc3LjU2NzA4MDggNTMuNDE4MjY3Nyw3MC4zMTM2MTAzIDUzLjQxODI2NzcsNTguMjM5NTg4NSBDNTMuNDE4MjY3Nyw0MC4xMjg1NTU3IDM2LjMwMzk1NDQsMzcuNzMwNDQwNSAyNS4yMjc0MTcsMzcuNzMwNDQwNSBDMTcuODQzMDU4NiwzNy43MzA0NDA1IDkuNDMzOTE5NjYsMzcuNzMwNDQwNSAwLDM3LjczMDQ0MDUgWiIgaWQ9IlBhdGgtMTkiIGZpbGw9IiMzNzkzRUYiPjwvcGF0aD4KICAgICAgICAgICAgPC9nPgogICAgICAgIDwvZz4KICAgIDwvZz4KPC9zdmc+' > </img>\nCreated in <span style='font-weight:600;margin-left:4px;'>Deepnote</span></a>",
   "metadata": {
    "tags": [],
    "created_in_deepnote_cell": true,
    "deepnote_cell_type": "markdown"
   }
  }
 ],
 "nbformat": 4,
 "nbformat_minor": 2,
 "metadata": {
  "orig_nbformat": 2,
  "deepnote": {},
  "deepnote_notebook_id": "6ebb1a1d-149a-430e-9cbd-797aea61e977",
  "deepnote_execution_queue": []
 }
}